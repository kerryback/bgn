{
 "cells": [
  {
   "cell_type": "code",
   "execution_count": null,
   "metadata": {},
   "outputs": [
    {
     "ename": "",
     "evalue": "",
     "output_type": "error",
     "traceback": [
      "\u001b[1;31mThe kernel failed to start as the Python Environment 'venv (Python 3.10.12)' is no longer available. Consider selecting another kernel or refreshing the list of Python Environments."
     ]
    }
   ],
   "source": [
    "# Import necessary libraries\n",
    "import numpy as np \n",
    "import pandas as pd\n",
    "import cupy as cp \n",
    "import cudf\n",
    "from timeit import timeit\n",
    "\n",
    "# Create a large random dataset\n",
    "n = 10**9\n",
    "np_data = np.random.rand(n)\n",
    "cp_data = cp.random.rand(n)\n",
    "\n",
    "# Create a pandas DataFrame and a cudf DataFrame\n",
    "pd_df = pd.DataFrame({'data': np_data})\n",
    "cudf_df = cudf.DataFrame({'data': cp_data})\n",
    "\n",
    "# Define functions to perform operations\n",
    "\n",
    "def numpy_sum():\n",
    "    return np.sum(np_data)\n",
    "\n",
    "def pandas_sum():\n",
    "    return pd_df['data'].sum()\n",
    "\n",
    "def cupy_sum():\n",
    "    return cp.sum(cp_data)\n",
    "\n",
    "def cudf_sum():\n",
    "    return cudf_df['data'].sum()\n",
    "\n",
    "# Time the operations\n",
    "numpy_time = timeit(numpy_sum, number=10)\n",
    "pandas_time = timeit(pandas_sum, number=10)\n",
    "cupy_time = timeit(cupy_sum, number=10)\n",
    "cudf_time = timeit(cudf_sum, number=10)\n",
    "\n",
    "# Print the results\n",
    "print('Numpy sum time:', numpy_time)``\n",
    "print('Pandas sum time:', pandas_time)\n",
    "print('Cupy sum time:', cupy_time)\n",
    "print('Cudf sum time:', cudf_time)"
   ]
  },
  {
   "cell_type": "code",
   "execution_count": 1,
   "metadata": {},
   "outputs": [
    {
     "name": "stdout",
     "output_type": "stream",
     "text": [
      "Numpy sum time: 2.815403323620558\n",
      "Pandas sum time: 0.17737545259296894\n"
     ]
    }
   ],
   "source": [
    "%load_ext cudf.pandas\n",
    "\n",
    "# Import necessary libraries\n",
    "import numpy as np \n",
    "import pandas as pd\n",
    "from timeit import timeit\n",
    "\n",
    "# Create a large random dataset\n",
    "n = 10**9\n",
    "np_data = np.random.rand(n)\n",
    "\n",
    "# Create a pandas DataFrame\n",
    "pd_df = pd.DataFrame({'data': np_data})\n",
    "\n",
    "# Define functions to perform operations\n",
    "\n",
    "def numpy_sum():\n",
    "    return np.sum(np_data)\n",
    "\n",
    "def pandas_sum():\n",
    "    return pd_df['data'].sum()\n",
    "\n",
    "# Time the operations\n",
    "numpy_time = timeit(numpy_sum, number=10)\n",
    "pandas_time = timeit(pandas_sum, number=10)\n",
    "\n",
    "# Print the results\n",
    "print('Numpy sum time:', numpy_time)\n",
    "print('Pandas sum time:', pandas_time)\n"
   ]
  }
 ],
 "metadata": {
  "kernelspec": {
   "display_name": "venv",
   "language": "python",
   "name": "python3"
  },
  "language_info": {
   "codemirror_mode": {
    "name": "ipython",
    "version": 3
   },
   "file_extension": ".py",
   "mimetype": "text/x-python",
   "name": "python",
   "nbconvert_exporter": "python",
   "pygments_lexer": "ipython3",
   "version": "3.10.12"
  }
 },
 "nbformat": 4,
 "nbformat_minor": 2
}
